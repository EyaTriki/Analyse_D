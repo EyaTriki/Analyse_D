{
 "cells": [
  {
   "cell_type": "markdown",
   "metadata": {},
   "source": [
    "# Projet Analyse de donnée\n",
    "# Nom et prénom\n",
    "# Groupe GLF2"
   ]
  },
  {
   "cell_type": "code",
   "execution_count": 2,
   "metadata": {},
   "outputs": [],
   "source": [
    "import pandas as pd\n",
    "import numpy as np\n",
    "import matplotlib.pyplot as plt\n"
   ]
  },
  {
   "cell_type": "code",
   "execution_count": 3,
   "metadata": {},
   "outputs": [
    {
     "data": {
      "text/plain": [
       "<bound method NDFrame.head of        Unnamed: 0                 location        km annee      marque  \\\n",
       "0               0       Ben arous, Ezzahra       1.0  2021  Volkswagen   \n",
       "1               1             Tunis, Tunis  180000.0  2008        Opel   \n",
       "2               2       Ben arous, Ezzahra       1.0  2021  Volkswagen   \n",
       "3               3             Tunis, Tunis  180000.0  2008        Opel   \n",
       "4               4  Monastir, Autres villes  200000.0  1999     Renault   \n",
       "...           ...                      ...       ...   ...         ...   \n",
       "10725       10725         Ben arous, Radès   86000.0  2013     Peugeot   \n",
       "10726       10726           Gafsa, Redeyef  232000.0  2009     Renault   \n",
       "10727       10727        Sfax, Sfax Médina  101000.0  2015         Kia   \n",
       "10728       10728     Tataouine, Tataouine  273000.0  2008  Volkswagen   \n",
       "10729       10729     Ariana, Ariana Ville  148000.0  2016  Volkswagen   \n",
       "\n",
       "        model            date     price carburant puissance  boite  cylindre  \n",
       "0        Polo    14 mars 2021   12500.0    Diesel         4  Jaune  Compacte  \n",
       "1       Astra    14 mars 2021   21500.0    Diesel         1   Noir   Berline  \n",
       "2        Polo    14 mars 2021   12500.0    Diesel         4  Jaune  Compacte  \n",
       "3       Astra    14 mars 2021   21500.0    Diesel         1   Noir   Berline  \n",
       "4          12    14 mars 2021  111111.0   Essence         4  Blanc    Autres  \n",
       "...       ...             ...       ...       ...       ...    ...       ...  \n",
       "10725     208  6 février 2021   28800.0   Essence         5   Bleu  Compacte  \n",
       "10726  Megane  6 février 2021   23500.0   Essence         6   Noir   Berline  \n",
       "10727     Rio  6 février 2021   37500.0   Essence         5   Noir   Berline  \n",
       "10728  Passat  6 février 2021   29000.0   Essence         7   Noir    Autres  \n",
       "10729  Passat  6 février 2021      65.0   Essence         7   Noir   Berline  \n",
       "\n",
       "[10730 rows x 12 columns]>"
      ]
     },
     "execution_count": 3,
     "metadata": {},
     "output_type": "execute_result"
    }
   ],
   "source": [
    "df=pd.read_csv('data/tayara_cars.csv')\n",
    "df.head"
   ]
  },
  {
   "cell_type": "code",
   "execution_count": null,
   "metadata": {},
   "outputs": [],
   "source": [
    "pd.DataFrame"
   ]
  }
 ],
 "metadata": {
  "kernelspec": {
   "display_name": "Python 3.9.13 ('base')",
   "language": "python",
   "name": "python3"
  },
  "language_info": {
   "codemirror_mode": {
    "name": "ipython",
    "version": 3
   },
   "file_extension": ".py",
   "mimetype": "text/x-python",
   "name": "python",
   "nbconvert_exporter": "python",
   "pygments_lexer": "ipython3",
   "version": "3.9.13"
  },
  "orig_nbformat": 4,
  "vscode": {
   "interpreter": {
    "hash": "c15c92eca873e5c34870ae186176eaf339d10fe4ea2fde6e9801a974b2102115"
   }
  }
 },
 "nbformat": 4,
 "nbformat_minor": 2
}
