{
 "cells": [
  {
   "cell_type": "markdown",
   "metadata": {},
   "source": [
    "# Projet Analyse de donnée\n",
    "# Nom et prénom\n",
    "# Groupe GLF2"
   ]
  },
  {
   "cell_type": "markdown",
   "metadata": {},
   "source": []
  }
 ],
 "metadata": {
  "kernelspec": {
   "display_name": "Python 3.9.13 ('base')",
   "language": "python",
   "name": "python3"
  },
  "language_info": {
   "name": "python",
   "version": "3.9.13"
  },
  "orig_nbformat": 4,
  "vscode": {
   "interpreter": {
    "hash": "c15c92eca873e5c34870ae186176eaf339d10fe4ea2fde6e9801a974b2102115"
   }
  }
 },
 "nbformat": 4,
 "nbformat_minor": 2
}
